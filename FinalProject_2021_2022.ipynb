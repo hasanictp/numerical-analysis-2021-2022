{
  "cells": [
    {
      "cell_type": "code",
      "execution_count": 64,
      "id": "3fe94688",
      "metadata": {
        "id": "3fe94688"
      },
      "outputs": [],
      "source": [
        "%matplotlib inline\n",
        "from numpy import *\n",
        "from matplotlib.pyplot import *\n",
        "from scipy.sparse.linalg import *"
      ]
    },
    {
      "cell_type": "markdown",
      "id": "8184faab",
      "metadata": {
        "id": "8184faab"
      },
      "source": [
        "Consider the following one-dimensional PDE:\n",
        "$$\n",
        "-u_{xx}(x) = f(x)\\quad\\mathrm{ in }\\ \\Omega = (0, \\pi)\n",
        "$$\n",
        "$$\n",
        "u(x) = 0, \\quad\\mathrm{ on }\\ \\partial\\Omega = \\{0, \\pi\\}\n",
        "$$\n",
        "\n",
        "Given the following $4^{th}$ order finite difference approximation of the second order derivative:\n",
        "\n",
        "$$u_{xx}(x_i) = \\frac{-u_{i-2}+16u_{i-1}-30u_i+16u_{i+1}-u_{i+2}}{12h^2}$$\n",
        "\n",
        "Implement a function that given the domain interval, the forcing function, the number of discretization points, the boundary conditions, returns the matrix $A$ and the the right hand side $b$."
      ]
    },
    {
      "cell_type": "code",
      "execution_count": 65,
      "id": "1c562f13",
      "metadata": {
        "id": "1c562f13"
      },
      "outputs": [],
      "source": [
        "def finDif(omega,f,n,bc):\n",
        "    omg0=omega[0]\n",
        "    omg1=omega[-1]\n",
        "    h = ( omg1-omg0 )/(n-1)\n",
        "\n",
        "    \"\"\" diagonal elements as per 4th order finite difference\"\"\"\n",
        "\n",
        "    # constructing A\n",
        "    c0 = 30*ones((n,))  \n",
        "    c1 = -16*ones((n-1,))\n",
        "    c2 = ones((n-2,))\n",
        "\n",
        "    A = (diag(c0, 0) + diag(c1, -1) + diag(c1, +1) + diag(c2, -2) + diag(c2, +2))\n",
        "    A /= 12.*h*h\n",
        "\n",
        "    #print(A)\n",
        "    #print(linalg.cond(A))\n",
        "\n",
        "    # constructing b\n",
        "    x = linspace(omg0, omg1, n)\n",
        "    b = f(x)\n",
        "    \n",
        "    # boundary conditions \n",
        "    A[0,:] = A[:,0] = 0\n",
        "    A[0,0] = A[-1,-1] = 1\n",
        "    b[0] = bc[0]\n",
        "    A[-1,:] = A[:,-1] = 0\n",
        "    b[-1] = bc[-1]\n",
        "    return A, b"
      ]
    },
    {
      "cell_type": "markdown",
      "id": "c21bb21e",
      "metadata": {
        "id": "c21bb21e"
      },
      "source": [
        "Call the function using:"
      ]
    },
    {
      "cell_type": "code",
      "execution_count": 66,
      "id": "23af8831",
      "metadata": {
        "id": "23af8831"
      },
      "outputs": [],
      "source": [
        "omega = [0,pi]\n",
        "f = lambda x : sin(x)\n",
        "n=100\n",
        "bc = [0,0]\n",
        "A, b = finDif(omega, f, n, bc)\n",
        "#print(A)"
      ]
    },
    {
      "cell_type": "markdown",
      "id": "4f8a7c6f",
      "metadata": {
        "id": "4f8a7c6f"
      },
      "source": [
        "Implement two functions that compute the LU and the Cholesky factorization of the system matrix $A$"
      ]
    },
    {
      "cell_type": "code",
      "execution_count": 67,
      "id": "47468a37",
      "metadata": {
        "id": "47468a37"
      },
      "outputs": [],
      "source": [
        "\"\"\"LU factorization\"\"\"\n",
        "def LU(A):\n",
        "    A = A.copy()\n",
        "    N = len(A)\n",
        "    for k in range(N-1):\n",
        "        if (abs(A[k,k]) < 1e-15):\n",
        "            raise RuntimeError(\"Null pivot\")\n",
        "\n",
        "        A[k+1:N,k] /= A[k,k]\n",
        "        for j in range(k+1,N):\n",
        "            A[k+1:N,j] -= A[k+1:N,k]*A[k,j]\n",
        "\n",
        "    L=tril(A)\n",
        "    for i in range(N):\n",
        "        L[i,i]=1.0\n",
        "    U = triu(A)\n",
        "    return L, U\n",
        "\n",
        "L, U = LU(A)"
      ]
    },
    {
      "cell_type": "code",
      "execution_count": 68,
      "id": "193ebfed",
      "metadata": {
        "id": "193ebfed"
      },
      "outputs": [],
      "source": [
        "\"\"\"Cholesky decomposition\"\"\"\n",
        "def cholesky(A):\n",
        "    A = A.copy()\n",
        "    N = len(A)\n",
        "    for k in range(N-1):\n",
        "        A[k,k] = sqrt(A[k,k])\n",
        "        A[k+1:N,k] = A[k+1:N,k]/A[k,k]\n",
        "        \n",
        "        for j in range(k+1,N):\n",
        "            A[j:N,j] = A[j:N,j] - A[j:N,k]*A[j,k]\n",
        "        \n",
        "    A[-1,-1] = sqrt(A[-1,-1])\n",
        "    L=tril(A)\n",
        "    return L, L.transpose()\n",
        "\n",
        "HT, H = cholesky(A)\n",
        "  "
      ]
    },
    {
      "cell_type": "markdown",
      "id": "41eb8436",
      "metadata": {
        "id": "41eb8436"
      },
      "source": [
        "Implement forward and backward substitution functions to exploit the developed factorization methods to solve the derived linear system of equations."
      ]
    },
    {
      "cell_type": "code",
      "execution_count": 69,
      "id": "019cf0df",
      "metadata": {
        "id": "019cf0df"
      },
      "outputs": [],
      "source": [
        "def L_solve(L,rhs):\n",
        "    x = zeros_like(rhs)\n",
        "    N = len(L)\n",
        "    x[0] = rhs[0]/L[0,0]\n",
        "    for i in range(1,N):\n",
        "        x[i] = (rhs[i] - dot(L[i, 0:i], x[0:i]))/L[i,i]        \n",
        "    return x"
      ]
    },
    {
      "cell_type": "code",
      "execution_count": 70,
      "id": "26ce17c4",
      "metadata": {
        "id": "26ce17c4"
      },
      "outputs": [],
      "source": [
        "def U_solve(U,rhs):\n",
        "    x = zeros_like(rhs)\n",
        "    N = len(U)    \n",
        "    x[-1] = rhs[-1]/L[-1,-1]\n",
        "    for i in reversed(range(N-1)):\n",
        "        x[i] = (rhs[i] - dot(U[i, i+1:N], x[i+1:N]))/U[i,i]\n",
        "    return x"
      ]
    },
    {
      "cell_type": "markdown",
      "id": "08ac9ba1",
      "metadata": {
        "id": "08ac9ba1"
      },
      "source": [
        "Solve the derived linear system using the implemented functions and plot the computed solution:"
      ]
    },
    {
      "cell_type": "code",
      "execution_count": 71,
      "id": "7c1de4f3",
      "metadata": {
        "id": "7c1de4f3",
        "colab": {
          "base_uri": "https://localhost:8080/",
          "height": 265
        },
        "outputId": "fd3f3a0c-0079-4fc7-f23f-b7f6806dfbe4"
      },
      "outputs": [
        {
          "output_type": "display_data",
          "data": {
            "image/png": "[encoded data removed]",
            "text/plain": [
              "<Figure size 432x288 with 1 Axes>"
            ]
          },
          "metadata": {
            "needs_background": "light"
          }
        }
      ],
      "source": [
        "x = linspace(omega[0], omega[-1], n)\n",
        "y_lu = L_solve(L,b)\n",
        "u_lu = U_solve(U,y_lu)\n",
        "_ =plot(x,u_lu,'black',linestyle='dotted', label='LU' )\n",
        "_=legend()"
      ]
    },
    {
      "cell_type": "markdown",
      "id": "62cdfe65",
      "metadata": {
        "id": "62cdfe65"
      },
      "source": [
        "Considering the new domain $\\Omega = (0,1)$ and the forcing term $f(x) = x(1-x)$ with B.C. $u(x) = 0$, on $\\partial \\Omega = {0,1}$ produce a plot and a table where you show the decay of the error w.r.t. the number of grid points.\n",
        "(The analytical solution for the above problems is $u_{an} = \\frac{x^4}{12} - \\frac{x^3}{6} + \\frac{x}{12}$)"
      ]
    },
    {
      "cell_type": "code",
      "execution_count": 72,
      "id": "91212afb",
      "metadata": {
        "id": "91212afb",
        "colab": {
          "base_uri": "https://localhost:8080/",
          "height": 265
        },
        "outputId": "02c6565e-55ff-438c-b1db-598ef61877f3"
      },
      "outputs": [
        {
          "output_type": "display_data",
          "data": {
            "image/png": "[encoded data removed]",
            "text/plain": [
              "<Figure size 432x288 with 1 Axes>"
            ]
          },
          "metadata": {
            "needs_background": "light"
          }
        }
      ],
      "source": [
        "def errors(omega, f, bc, points):\n",
        "    errors = []\n",
        "    for i in range(len(points)):\n",
        "        n = points[i]\n",
        "        x = linspace(omega[0], omega[1], n)\n",
        "        f_exact = x**4/12. - x**3/6. + x/12.\n",
        "        An, bn = finDif(omega, f, n, bc)\n",
        "        Ln, Un = LU(An)\n",
        "        wn = L_solve(Ln, bn)\n",
        "        un = U_solve(Un, wn)\n",
        "        # get error\n",
        "        err = linalg.norm(f_exact - un, 2)\n",
        "        errors.append(err)\n",
        "    \n",
        "    return errors \n",
        "    \n",
        "f = lambda x: x*(1-x)\n",
        "points = list(range(5, 206, 10))\n",
        "errors = errors([0,1], f, [0,0], points)\n",
        "_ = plot(points, errors , 'black',linestyle='dotted') "
      ]
    },
    {
      "cell_type": "markdown",
      "id": "c8d5002f",
      "metadata": {
        "id": "c8d5002f"
      },
      "source": [
        "Exploit the derived LU factorizations to compute the condition number of the system's matrix $A$ using the original problem formulation."
      ]
    },
    {
      "cell_type": "code",
      "execution_count": 73,
      "id": "c25fc1fe",
      "metadata": {
        "id": "c25fc1fe",
        "colab": {
          "base_uri": "https://localhost:8080/"
        },
        "outputId": "38f3c6fd-3728-458e-f2b3-a66744ccc71a"
      },
      "outputs": [
        {
          "output_type": "stream",
          "name": "stdout",
          "text": [
            "error_PM = 0.9199367691621815 iterations_PM = 1000\n",
            "lambda_PM = 5289.569391713799\n",
            "error_IPM = 0.4989280529999778 iterations_IPM = 1000\n",
            "lambda_IPM = 0.5359935782624178\n"
          ]
        },
        {
          "output_type": "execute_result",
          "data": {
            "text/plain": [
              "9868.717847071055"
            ]
          },
          "metadata": {},
          "execution_count": 73
        }
      ],
      "source": [
        "# inverse power method \n",
        "def IPM(A, x0, mu, eps=1.0e-12, nmax=1000):\n",
        "    M = A - mu*eye(len(A))\n",
        "    L,U = LU(M)\n",
        "    q = x0/linalg.norm(x0,2)\n",
        "    err = eps + 1.0\n",
        "    it = 0\n",
        "    while (err > eps and it < nmax ):\n",
        "        y = L_solve(L, q)\n",
        "        x = U_solve(U, y)\n",
        "        q = x/linalg.norm(x,2)\n",
        "        z = dot(A,q)\n",
        "        l = dot(q.T,z)\n",
        "        err = linalg.norm(z-l*q,2)\n",
        "        it += 1\n",
        "    \n",
        "    print(\"error_IPM =\", err, \"iterations_IPM =\", it)\n",
        "    print(\"lambda_IPM =\", l)\n",
        "    \n",
        "    return l,q\n",
        "    \n",
        "# power method to compute\n",
        "def PM(A, z0, tol=1e-12, nmax=1000):\n",
        "    q = z0/linalg.norm(z0,2)\n",
        "    it = 0\n",
        "    err = tol + 1.\n",
        "    while (it < nmax and err > tol):\n",
        "        z = dot(A,q)\n",
        "        l = dot(q.T,z)\n",
        "        err = linalg.norm(z-l*q,2)\n",
        "        q = z/linalg.norm(z,2)\n",
        "        it += 1\n",
        "    print(\"error_PM =\", err, \"iterations_PM =\", it)\n",
        "    print(\"lambda_PM =\", l)\n",
        "    return l,q\n",
        "\n",
        "    #l,x = PM(A,z0)\n",
        "    #l_np, x_np = numpy.linalg.eig(A)\n",
        "    #print(\"numpy\")\n",
        "    #print(l_np)\n",
        "\n",
        "\n",
        "# computes max and min eigenvalues\n",
        "def condNumb(A):\n",
        "    z0 = ones((len(A), ))\n",
        "    lmax = PM(A, z0)[0]\n",
        "    lmin = IPM(A, z0, 0.0)[0]\n",
        "    return lmax/lmin\n",
        "\n",
        "condNumb(A)\n"
      ]
    },
    {
      "cell_type": "markdown",
      "id": "2728b49a",
      "metadata": {
        "id": "2728b49a"
      },
      "source": [
        "Implement a preconditioned Conjugant Gradient method to solve the original linear system of equations using an iterative method:"
      ]
    },
    {
      "cell_type": "code",
      "execution_count": 74,
      "id": "62b83aee",
      "metadata": {
        "id": "62b83aee"
      },
      "outputs": [],
      "source": [
        "# conjugate gradient\n",
        "def cg(A, b, P, nmax=len(A), eps=1e-10): \n",
        "    x = zeros_like(b)\n",
        "    it = 0\n",
        "    r = b - dot(A,x)\n",
        "    tol = eps + 1\n",
        "    N=len(A)\n",
        "    rho_old = 1.\n",
        "    p_old = zeros_like(b)\n",
        "    while (it < nmax and tol > eps):\n",
        "        it += 1\n",
        "        z = linalg.solve(P,r)\n",
        "        rho = dot(r,z)\n",
        "        if (it > 1):\n",
        "            beta = rho/rho_old\n",
        "            p = z + beta*p_old\n",
        "        else:\n",
        "            p = z\n",
        "        q = dot(A,p)\n",
        "        alpha = rho/(dot(p,q))\n",
        "        x += p*alpha\n",
        "        r -= q*alpha\n",
        "        \n",
        "        p_old = p\n",
        "        rho_old = rho\n",
        "        \n",
        "        tol = linalg.norm(r,2)\n",
        "    return x"
      ]
    },
    {
      "cell_type": "markdown",
      "id": "8a4cfc02",
      "metadata": {
        "id": "8a4cfc02"
      },
      "source": [
        "Consider the following time dependent variation of the PDE starting from the orginal problem formulation:\n",
        "$$\n",
        "u'(t)-u_{xx} = \\alpha(t)f(x)\n",
        "$$\n",
        "\n",
        "for $t\\in [0,T]$, with $\\alpha(t) = \\cos(t)$ and $T = 6\\pi$\n",
        "\n",
        "Use the same finite difference scheme to derive the semi-discrete formulation and solve it using a forward Euler's method.\n",
        "\n",
        "Plot the time dependent solution solution at $x = \\pi/2$, $x=1$, \n",
        "$x=\\pi$\n"
      ]
    },
    {
      "cell_type": "code",
      "execution_count": 75,
      "id": "3ffe0689",
      "metadata": {
        "id": "3ffe0689"
      },
      "outputs": [],
      "source": [
        "# forward Euler routine\n",
        "def fe(u0,t0,tf,h,alpha,A,b):\n",
        "    t = arange(t0,tf+1e-10, h)     \n",
        "    sol = zeros((len(t), len(u0)))  \n",
        "    sol[0] = u0\n",
        "    for i in range(1,len(t)):\n",
        "        u2 = -dot(A,sol[i-1])    \n",
        "        af = alpha(t[i-1])*b       \n",
        "        sol[i] = sol[i-1] + h*u2 + h*af\n",
        "    \n",
        "    return sol, t"
      ]
    },
    {
      "cell_type": "code",
      "source": [
        "# plots\n",
        "omega = [0, pi]\n",
        "x2=(omega[-1] - omega[0])\n",
        "val1 = round(n / x2 * pi/2.) -1\n",
        "val2= round(n/x2) - 1\n",
        "val3 = round(n/x2*pi) - 1\n",
        "t0 = 0\n",
        "tf = 6*pi\n",
        "alpha = lambda y: cos(y)\n",
        "max, vect = PM(A, ones_like(x)) \n",
        "h = 1/(max)\n",
        "\n",
        "# u0 = sin(x)\n",
        "u0 = sin(x)\n",
        "sol, t = fe(u0,t0,tf, h,alpha, A,b)\n",
        "_ = plot(t, sol[:,val2], 'black',linestyle='dotted',label='x=1')\n",
        "_ = plot(t, sol[:,val1], 'blue',linestyle='dotted',label='x=π/2')\n",
        "_ = plot(t, sol[:,val3], 'red',linestyle='dotted',label='x=π')\n",
        "_ = legend()"
      ],
      "metadata": {
        "colab": {
          "base_uri": "https://localhost:8080/",
          "height": 302
        },
        "id": "xV7-oXz1P6MJ",
        "outputId": "fd5c89b2-89d9-4652-8db9-b2b4bb6873cc"
      },
      "id": "xV7-oXz1P6MJ",
      "execution_count": 78,
      "outputs": [
        {
          "output_type": "stream",
          "name": "stdout",
          "text": [
            "error_PM = 0.9199367691621815 iterations_PM = 1000\n",
            "lambda_PM = 5289.569391713799\n"
          ]
        },
        {
          "output_type": "display_data",
          "data": {
            "image/png": "[encoded data removed]",
            "text/plain": [
              "<Figure size 432x288 with 1 Axes>"
            ]
          },
          "metadata": {
            "needs_background": "light"
          }
        }
      ]
    },
    {
      "cell_type": "markdown",
      "id": "36936121",
      "metadata": {
        "id": "36936121"
      },
      "source": [
        "Given the original $Au = b$ system, implement an algorithm to compute the eigenvalues and eigenvectors of the matrix $A$. Exploit the computed LU factorization"
      ]
    },
    {
      "cell_type": "code",
      "execution_count": 85,
      "id": "622aadf4",
      "metadata": {
        "id": "622aadf4"
      },
      "outputs": [],
      "source": [
        "def eigenvalue_LU(A,eps,nmax):\n",
        "    B = A.copy()\n",
        "    val_old = np.diag(B)\n",
        "    err = eps+1.0\n",
        "    it = 0\n",
        "    \n",
        "    while it < nmax and err > eps:\n",
        "        L,U = LU(B)\n",
        "        B = U@L\n",
        "        val_new = np.diag(B)  \n",
        "        err = np.linalg.norm(val_new - val_old,2)\n",
        "        it += 1\n",
        "        val_old = val_new\n",
        "        \n",
        "    return val_new\n",
        "\n"
      ]
    },
    {
      "cell_type": "markdown",
      "id": "85d5f64e",
      "metadata": {
        "id": "85d5f64e"
      },
      "source": [
        "Compute the inverse of the matrix A exploiting the derived LU factorization"
      ]
    },
    {
      "cell_type": "code",
      "execution_count": 86,
      "id": "6ad7199f",
      "metadata": {
        "id": "6ad7199f"
      },
      "outputs": [],
      "source": [
        "def inverse(A):\n",
        "    B=A.copy()\n",
        "    I=eye(n)\n",
        "    for i in range(n):\n",
        "        B[:,i]=U_solve(U,L_solve(L,I[:,i]))\n",
        "    return B"
      ]
    },
    {
      "cell_type": "markdown",
      "id": "cb22566e",
      "metadata": {
        "id": "cb22566e"
      },
      "source": [
        "Consider the following Cauchy problem\n",
        "$$\n",
        "\\begin{cases}\n",
        "y'= -ty^2 \\quad 0\\le t \\le 2\\\\\n",
        "y(0) = 1\n",
        "\\end{cases}\n",
        "$$\n",
        "Implement a Backward Euler's method in a suitable function and solve the resulting non-linear equation using a Newton's method."
      ]
    },
    {
      "cell_type": "code",
      "execution_count": 62,
      "id": "3184e358",
      "metadata": {
        "id": "3184e358",
        "colab": {
          "base_uri": "https://localhost:8080/",
          "height": 265
        },
        "outputId": "250a719c-1c59-47f9-baf2-28d964e909cb"
      },
      "outputs": [
        {
          "output_type": "display_data",
          "data": {
            "image/png": "[encoded data removed]",
            "text/plain": [
              "<Figure size 432x288 with 1 Axes>"
            ]
          },
          "metadata": {
            "needs_background": "light"
          }
        }
      ],
      "source": [
        "\"\"\"newton method\"\"\"\n",
        "def newton(f,f_prime,x0,epsilon=1e-11,iter=1000):\n",
        "    x = x0\n",
        "    for n in range(0,iter):\n",
        "        if abs(f(x)) < epsilon:\n",
        "            return x\n",
        "        if f_prime(x) == 0:\n",
        "            return None\n",
        "        x = x - f(x)/f_prime(x)\n",
        "    return x\n",
        "\n",
        "\n",
        "f=lambda t,y: -t*(y**2)\n",
        "f_prime=lambda t,y: -t*2*y\n",
        "\n",
        "\n",
        "\"\"\"backward euler\"\"\"\n",
        "def b_euler(y0,g,g1,omega,n):\n",
        "    tspace=linspace(omega[0],omega[1],n)\n",
        "    h=(omega[1]-omega[0])/n\n",
        "    f=lambda t,z,x: z-h*g(t,z)-x\n",
        "    f1=lambda t,z,x: 1-h*g1(t,z)\n",
        "\n",
        "    y=zeros(n)\n",
        "    y[0]=y0\n",
        "\n",
        "    for i in range(1,n):\n",
        "        fn=lambda z: f(tspace[i],z,y[i-1])\n",
        "        fn1=lambda z: f1(tspace[i],z,y[i-1])\n",
        "        y[i]=newton(fn,fn1,y[i-1])\n",
        "    return y\n",
        "n=25\n",
        "y=b_euler(1,f,f_prime,array([0,2]),n)\n",
        "plot(linspace(0,2,n),y,'black',linestyle='dotted',label=\"approx_sol\")\n",
        "plot(linspace(0,2,n),2/(linspace(0,2,n)**2+2),'go',label=\"exact_sol\")\n",
        "_=legend()\n"
      ]
    }
  ],
  "metadata": {
    "kernelspec": {
      "display_name": "Python 3 (ipykernel)",
      "language": "python",
      "name": "python3"
    },
    "language_info": {
      "codemirror_mode": {
        "name": "ipython",
        "version": 3
      },
      "file_extension": ".py",
      "mimetype": "text/x-python",
      "name": "python",
      "nbconvert_exporter": "python",
      "pygments_lexer": "ipython3",
      "version": "3.8.11"
    },
    "colab": {
      "name": "FinalProject-2021-2022.ipynb",
      "provenance": []
    }
  },
  "nbformat": 4,
  "nbformat_minor": 5
}